{
 "cells": [
  {
   "cell_type": "raw",
   "id": "e7d58cd7",
   "metadata": {},
   "source": [
    "Q. W. A P. which takes one number from 0 to 9 from the user and prints\n",
    "it in the word. And if the word is not from 0 to 9 then\n",
    "it should print that number is outside of the range and program should\n",
    "exit.\n",
    "For exapmple:-\n",
    "input = 1\n",
    "output = one"
   ]
  },
  {
   "cell_type": "code",
   "execution_count": 13,
   "id": "f211e3a1",
   "metadata": {},
   "outputs": [
    {
     "name": "stdout",
     "output_type": "stream",
     "text": [
      "input = 10\n",
      "Number is outside of the range.\n"
     ]
    }
   ],
   "source": [
    "user_ip = int(input(\"input = \"))\n",
    "num_word_list = ['Zero', 'One', 'Two', 'Three', 'Four', 'Five', 'Six', 'Seven', 'Eight', 'Nine']\n",
    "for num in enumerate(num_word_list):\n",
    "    if num[0] == user_ip:\n",
    "        print(f\"output = {num[1]}\")\n",
    "        break\n",
    "    elif (user_ip < 0) or (user_ip > 9): \n",
    "        print(\"Number is outside of the range.\")\n",
    "        break"
   ]
  },
  {
   "cell_type": "raw",
   "id": "729724d4",
   "metadata": {},
   "source": [
    "Q. W. A P. to implement calculator but the operation to be done and two\n",
    "numbers will be taken as input from user:-\n",
    "Operation console should show below:-\n",
    "Please select any one operation from below:-\n",
    "* To add enter 1\n",
    "* to subtract enter 2\n",
    "* To multiply enter 3\n",
    "* To divide enter 4\n",
    "* To divide and find quotient enter 5\n",
    "* To divide and find remainder enter 6\n",
    "* To divide and find num1 to the power of num2 enter 7\n",
    "* To Come out of the program enter 8"
   ]
  },
  {
   "cell_type": "code",
   "execution_count": 14,
   "id": "4ad11d0d",
   "metadata": {},
   "outputs": [
    {
     "name": "stdout",
     "output_type": "stream",
     "text": [
      "Enter first number: 5\n",
      "Enter second number: 3\n",
      "Your first and second numbers are:  5 and 3\n",
      "For addition feed 1: \n",
      "For substraction feed 2: \n",
      "For multiplication feed 3: \n",
      "For division feed 4: \n",
      "For quotient feed 5: \n",
      "For remainder feed 6: \n",
      "For num1^num2 feed 7: \n",
      "5\n",
      "Quotient upon division of num1 by num2:  1\n"
     ]
    }
   ],
   "source": [
    "num1 = int(input(\"Enter first number: \"))\n",
    "num2 = int(input(\"Enter second number: \"))\n",
    "print(f\"Your first and second numbers are: \",num1,\"and\",num2)\n",
    "opr = int(input(\"For addition feed 1: \\nFor substraction feed 2: \\nFor multiplication feed 3: \\n\\\n",
    "For division feed 4: \\nFor quotient feed 5: \\nFor remainder feed 6: \\nFor num1^num2 feed 7: \\n\"))\n",
    "\n",
    "if opr == 1:\n",
    "    print(f\"Addition of two numbers: \",num1 + num2)\n",
    "elif opr == 2:\n",
    "    print(f\"Substraction of two numbers: \",num1 - num2)\n",
    "elif opr == 3:\n",
    "    print(f\"Multiplication of two numbers: \",num1 * num2)\n",
    "elif opr == 4:\n",
    "    print(\"Division of two numbers: {:.3f}\".format(num1 / num2))\n",
    "elif opr == 5:\n",
    "    print(f\"Quotient upon division of num1 by num2: \",num1 // num2)\n",
    "elif opr == 6:\n",
    "    print(f\"Remainder upon division of num1 by num2: \",num1 % num2)\n",
    "elif opr == 7:\n",
    "    print(\"num1^num2: {:G}\".format(num1 ** num2))\n",
    "else: print(\"Please feed correct choice available in range\")"
   ]
  },
  {
   "cell_type": "raw",
   "id": "242359b4",
   "metadata": {},
   "source": [
    "Q. W A P to check whether a year entered by user is an leap year or not?\n",
    "Check with below input:-\n",
    "leap year:- 2012, 1968, 2004, 1200, 1600,2400\n",
    "Non-lear year:- 1971, 2006, 1700,1800,1900"
   ]
  },
  {
   "cell_type": "code",
   "execution_count": 17,
   "id": "ec0411cb",
   "metadata": {},
   "outputs": [
    {
     "name": "stdout",
     "output_type": "stream",
     "text": [
      "Enter year to check if leap year or not: 2023\n",
      "2023 is not a leap year\n"
     ]
    }
   ],
   "source": [
    "Year = int(input(\"Enter year to check if leap year or not: \"))\n",
    "print(f\"{Year} is a leap year\") if Year % 4 == 0 else print(f\"{Year} is not a leap year\")"
   ]
  },
  {
   "cell_type": "raw",
   "id": "1d26c5f0",
   "metadata": {},
   "source": [
    "Q. W A P which takes one number from the user and checks whether it is\n",
    "an even or odd number?, If it even then prints number is\n",
    "even number else prints that number is odd number."
   ]
  },
  {
   "cell_type": "code",
   "execution_count": 21,
   "id": "9b55a47d",
   "metadata": {},
   "outputs": [
    {
     "name": "stdout",
     "output_type": "stream",
     "text": [
      "Enter a number to check if it's Even or Odd: 5\n",
      "Number is Odd\n"
     ]
    }
   ],
   "source": [
    "if (num:= int(input(\"Enter a number to check if it's Even or Odd: \"))) == 0:\n",
    "    print(\"I will not compute for number 'ZERO'\")\n",
    "elif num % 2 == 0:\n",
    "    print(\"Number is Even\")\n",
    "else:print(\"Number is Odd\")"
   ]
  },
  {
   "cell_type": "raw",
   "id": "52bf06f1",
   "metadata": {},
   "source": [
    "Q. W A P which takes two numbers from the user and prints below output:-\n",
    "1. num1 is greater than num2 if num1 is greater than num2\n",
    "2. num1 is smaller than num2 if num1 is smaller than num2\n",
    "3. num1 is equal to num2 if num1 and num2 are equal\n",
    "Note:- 1. Do this problem using if - else\n",
    "2. Do this using ternary operator"
   ]
  },
  {
   "cell_type": "code",
   "execution_count": 22,
   "id": "b47abdea",
   "metadata": {},
   "outputs": [
    {
     "name": "stdout",
     "output_type": "stream",
     "text": [
      "Enter first number: 5\n",
      "Enter second number: 3\n",
      "5 is greater than 3\n"
     ]
    }
   ],
   "source": [
    "# Using if-else:\n",
    "if (num1:= int(input(\"Enter first number: \"))) > (num2:= int(input(\"Enter second number: \"))):\n",
    "    print (f\"{num1} is greater than {num2}\")\n",
    "elif num1 < num2:\n",
    "    print (f\"{num1} is smaller than {num2}\")\n",
    "else: print(f\"{num1} is equal to {num2}\")"
   ]
  },
  {
   "cell_type": "code",
   "execution_count": 26,
   "id": "1fbc7f13",
   "metadata": {},
   "outputs": [
    {
     "name": "stdout",
     "output_type": "stream",
     "text": [
      "Enter first number: 3\n",
      "Enter second number: 3\n",
      "3 is equal to 3\n"
     ]
    }
   ],
   "source": [
    "# Using ternary operator:\n",
    "num1, num2 = int(input(\"Enter first number: \")), int(input(\"Enter second number: \"))\n",
    "print(f\"{num1} is greater than {num2}\") if num1 > num2 else print(f\"{num2} \\\n",
    "        is greater than {num1}\") if num2 > num1 else print(f\"{num1} is equal to {num2}\")"
   ]
  },
  {
   "cell_type": "raw",
   "id": "3d19fecb",
   "metadata": {},
   "source": [
    "Q. Write a Python program to find the length of the my_str using loop:-\n",
    "Input:- 'Write a Python program to find the length of the my_str'\n",
    "Output:- 55"
   ]
  },
  {
   "cell_type": "code",
   "execution_count": 29,
   "id": "b5956ac2",
   "metadata": {},
   "outputs": [
    {
     "name": "stdout",
     "output_type": "stream",
     "text": [
      "55\n"
     ]
    }
   ],
   "source": [
    "str = 'Write a Python program to find the length of the my_str'\n",
    "length = 0\n",
    "for char in str:\n",
    "    length += 1\n",
    "print(length)"
   ]
  },
  {
   "cell_type": "raw",
   "id": "64b7b82c",
   "metadata": {},
   "source": [
    "Q. Write a Python program to find the total number of times letter 'p'\n",
    "is appeared in the below string using loop:-\n",
    "Input:- 'peter piper picked a peck of pickled peppers.\\n'\n",
    "Output:- 9"
   ]
  },
  {
   "cell_type": "code",
   "execution_count": 30,
   "id": "df72d9c9",
   "metadata": {},
   "outputs": [
    {
     "name": "stdout",
     "output_type": "stream",
     "text": [
      "9\n"
     ]
    }
   ],
   "source": [
    "str = 'peter piper picked a peck of pickled peppers.'\n",
    "x = str.count(\"p\")\n",
    "print(x)"
   ]
  },
  {
   "cell_type": "raw",
   "id": "e04322c1",
   "metadata": {},
   "source": [
    "Q. Write a Python Program, to print all the indexes of all occurences of\n",
    "letter 'p' appeared in the string using loop:-\n",
    "Input:- 'peter piper picked a peck of pickled peppers.'\n",
    "Output:-\n",
    "0\n",
    "6\n",
    "8\n",
    "12\n",
    "21\n",
    "29\n",
    "37\n",
    "39\n",
    "40"
   ]
  },
  {
   "cell_type": "code",
   "execution_count": 35,
   "id": "dba3a444",
   "metadata": {},
   "outputs": [
    {
     "name": "stdout",
     "output_type": "stream",
     "text": [
      "0\n",
      "6\n",
      "8\n",
      "12\n",
      "21\n",
      "29\n",
      "37\n",
      "39\n",
      "40\n"
     ]
    }
   ],
   "source": [
    "str = 'peter piper picked a peck of pickled peppers.'\n",
    "letter = 'p'\n",
    "for i in enumerate(str):\n",
    "    if i[1] != letter:\n",
    "        continue\n",
    "    print(i[0])"
   ]
  },
  {
   "cell_type": "raw",
   "id": "b3902cf0",
   "metadata": {},
   "source": [
    "Q. Write a python program to find below output using loop:-\n",
    "Input:- 'peter piper picked a peck of pickled peppers.'\n",
    "Output:- ['peter', 'piper', 'picked', 'a', 'peck', 'of', 'pickled','peppers']"
   ]
  },
  {
   "cell_type": "code",
   "execution_count": 36,
   "id": "f09572fa",
   "metadata": {},
   "outputs": [
    {
     "name": "stdout",
     "output_type": "stream",
     "text": [
      "['peter', 'piper', 'picked', 'a', 'peck', 'of', 'pickled', 'peppers.']\n"
     ]
    }
   ],
   "source": [
    "str = \"peter piper picked a peck of pickled peppers.\"\n",
    "temp = \"\"\n",
    "wl = []\n",
    "for i in str:\n",
    "  if i == \" \":\n",
    "    wl.append(temp)\n",
    "    temp = \"\"\n",
    "  else:\n",
    "    temp += i\n",
    "if temp:\n",
    "  wl.append(temp)\n",
    "print(wl)"
   ]
  },
  {
   "cell_type": "raw",
   "id": "f7065645",
   "metadata": {},
   "source": [
    "Q. Write a python program to find below output using loop:-\n",
    "Input:- 'peter piper picked a peck of pickled peppers.'\n",
    "Output:- 'peppers pickled of peck a picked piper peter'"
   ]
  },
  {
   "cell_type": "code",
   "execution_count": 37,
   "id": "5e371884",
   "metadata": {},
   "outputs": [
    {
     "name": "stdout",
     "output_type": "stream",
     "text": [
      "peppers. pickled of peck a picked piper peter\n"
     ]
    }
   ],
   "source": [
    "str = 'peter piper picked a peck of pickled peppers.'\n",
    "temp = \"\"\n",
    "wl = []\n",
    "for i in str:\n",
    "  if i == \" \":\n",
    "    wl.append(temp)\n",
    "    temp = \"\"\n",
    "  else:\n",
    "    temp += i\n",
    "if temp:\n",
    "  wl.append(temp)\n",
    "print(\" \".join(wl[::-1]))"
   ]
  },
  {
   "cell_type": "raw",
   "id": "a14b913a",
   "metadata": {},
   "source": [
    "Q. Write a python program to find below output using loop:-\n",
    "Input:- 'peter piper picked a peck of pickled peppers.'\n",
    "Output:- '.sreppep delkcip fo kcep a dekcip repip retep'"
   ]
  },
  {
   "cell_type": "code",
   "execution_count": 38,
   "id": "d917387f",
   "metadata": {},
   "outputs": [
    {
     "name": "stdout",
     "output_type": "stream",
     "text": [
      ".sreppep delkcip fo kcep a dekcip repip retep\n"
     ]
    }
   ],
   "source": [
    "str = 'peter piper picked a peck of pickled peppers.'\n",
    "temp = \"\"\n",
    "wl = []\n",
    "for i in str:\n",
    "  if i == \" \":\n",
    "    wl.append(temp[::-1])\n",
    "    temp = \"\"\n",
    "  else:\n",
    "    temp += i\n",
    "if temp:\n",
    "  wl.append(temp[::-1])\n",
    "print(\" \".join(wl[::-1]))"
   ]
  },
  {
   "cell_type": "raw",
   "id": "eee9ac24",
   "metadata": {},
   "source": [
    "Q. Write a python program to find below output using loop:-\n",
    "Input:- 'peter piper picked a peck of pickled peppers.'\n",
    "Output:- 'retep repip dekcip a kcep fo delkcip sreppep'"
   ]
  },
  {
   "cell_type": "code",
   "execution_count": 39,
   "id": "f43e24ad",
   "metadata": {},
   "outputs": [
    {
     "name": "stdout",
     "output_type": "stream",
     "text": [
      "retep repip dekcip a kcep fo delkcip sreppep\n"
     ]
    }
   ],
   "source": [
    "str = 'peter piper picked a peck of pickled peppers'\n",
    "temp = \"\"\n",
    "wl = []\n",
    "for i in str:\n",
    "  if i == \" \":\n",
    "    wl.append(temp[::-1])\n",
    "    temp = \"\"\n",
    "  else:\n",
    "    temp += i\n",
    "if temp:\n",
    "  wl.append(temp[::-1])\n",
    "print(\" \".join(wl))"
   ]
  },
  {
   "cell_type": "raw",
   "id": "c1e2e246",
   "metadata": {},
   "source": [
    "Q. Write a python program to find below output using loop:-\n",
    "Input:- 'peter piper picked a peck of pickled peppers.'\n",
    "Output:- 'Peter Piper Picked A Peck Of Pickled Peppers'"
   ]
  },
  {
   "cell_type": "code",
   "execution_count": 40,
   "id": "89e9484e",
   "metadata": {
    "id": "WUxPAkY94foo"
   },
   "outputs": [
    {
     "name": "stdout",
     "output_type": "stream",
     "text": [
      "Peter Piper Picked A Peck Of Pickled Peppers\n"
     ]
    }
   ],
   "source": [
    "#Write a python program to find below output:-\n",
    "\n",
    "#Input:- 'peter piper picked a peck of pickled peppers.'\n",
    "#Output:- 'Peter Piper Picked A Peck Of Pickled Peppers.'\n",
    "\n",
    "str = 'peter piper picked a peck of pickled peppers'\n",
    "temp = \"\"\n",
    "wl = []\n",
    "for i in str:\n",
    "  if i == \" \":\n",
    "    wl.append(temp[0].upper() + temp[1:])\n",
    "    temp = \"\"\n",
    "  else:\n",
    "    temp += i\n",
    "if temp:\n",
    "  wl.append(temp[0].upper() + temp[1:])\n",
    "print(\" \".join(wl))"
   ]
  },
  {
   "cell_type": "raw",
   "id": "75f45415",
   "metadata": {},
   "source": [
    "Q. Write a python program to find below output using loop:-\n",
    "Input:- 'Peter Piper Picked A Peck Of Pickled Peppers.'\n",
    "Output:- 'Peter piper picked a peck of pickled peppers'"
   ]
  },
  {
   "cell_type": "code",
   "execution_count": 48,
   "id": "85fd5e96",
   "metadata": {
    "id": "IT1NSPxA4mww"
   },
   "outputs": [
    {
     "name": "stdout",
     "output_type": "stream",
     "text": [
      "Peter piper picked a peck of pickled peppers.\n"
     ]
    }
   ],
   "source": [
    "#Write a python program to find below output:-\n",
    "\n",
    "#Input:- 'Peter Piper Picked A Peck Of Pickled Peppers.'\n",
    "#Output:- 'Peter piper picked a peck of pickled peppers.'\n",
    "\n",
    "str = 'Peter Piper Picked A Peck Of Pickled Peppers.'\n",
    "temp = \"\"\n",
    "wl = []\n",
    "for i in str:\n",
    "  if i == \" \":\n",
    "    wl.append(temp[0].lower() + temp[1:])\n",
    "    temp = \"\"\n",
    "  else:\n",
    "    temp += i\n",
    "if temp:\n",
    "  wl.append(temp[0].lower() + temp[1:])\n",
    "wl[0] = wl[0][0].upper() + wl[0][1:]\n",
    "print(\" \".join(wl))"
   ]
  },
  {
   "cell_type": "raw",
   "id": "f305006e",
   "metadata": {},
   "source": [
    "Q. Write a python program to implement index method using loop. If\n",
    "sub_str is found in my_str then it will print the index\n",
    "of first occurrence of first character of matching string in my_str:-\n",
    "Input:- my_str = 'Peter Piper Picked A Peck Of Pickled Peppers.',\n",
    "sub_str = 'Pickl'\n",
    "Output:- 29"
   ]
  },
  {
   "cell_type": "code",
   "execution_count": 49,
   "id": "9a9cf52c",
   "metadata": {
    "id": "3Gg65vSc4m3C"
   },
   "outputs": [
    {
     "name": "stdout",
     "output_type": "stream",
     "text": [
      "29\n"
     ]
    }
   ],
   "source": [
    "#Write a python program to implement index method. If sub_str is found in my_str then it will print the index\n",
    "# of first occurrence of first character of matching string in my_str:-\n",
    "\n",
    "#Input:- my_str = 'Peter Piper Picked A Peck Of Pickled Peppers.', sub_str = 'Pickl'\n",
    "#Output:- 29\n",
    "\n",
    "my_str = 'Peter Piper Picked A Peck Of Pickled Peppers.'\n",
    "sub_str = 'Pickl'\n",
    "counter = 0\n",
    "temp_word = \"\"\n",
    "for i in my_str:\n",
    "  counter = counter + 1\n",
    "  if i != \" \":\n",
    "    temp_word += i\n",
    "    if temp_word == sub_str:\n",
    "      print(counter - len(temp_word))\n",
    "      break\n",
    "  elif i == \" \":\n",
    "     temp_word = \"\""
   ]
  },
  {
   "cell_type": "raw",
   "id": "6f096967",
   "metadata": {},
   "source": [
    "Q. Write a python program to implement replace method using loop. If\n",
    "sub_str is found in my_str then it will replace the first\n",
    "occurrence of sub_str with new_str else it will will print sub_str not\n",
    "found:-\n",
    "Input:- my_str = 'Peter Piper Picked A Peck Of Pickled Peppers.',\n",
    "sub_str = 'Peck', new_str = 'Pack'\n",
    "Output:- 'Peter Piper Picked A Pack Of Pickled Peppers.'"
   ]
  },
  {
   "cell_type": "code",
   "execution_count": 56,
   "id": "0d3204a2",
   "metadata": {
    "id": "iFRhp_JI4m6k"
   },
   "outputs": [
    {
     "name": "stdout",
     "output_type": "stream",
     "text": [
      "Peter Piper Picked A Pack Peck Of Pickled Peppers.\n"
     ]
    }
   ],
   "source": [
    "#Write a python program to implement replace method. If sub_str is found in my_str then it will replace the first \n",
    "#occurrence of sub_str with new_str else it will will print sub_str not found:-\n",
    "\n",
    "#Input:- my_str = 'Peter Piper Picked A Peck Of Pickled Peppers.', sub_str = 'Peck', new_str = 'Pack'\n",
    "#Output:- 'Peter Piper Picked A Pack Of Pickled Peppers.'\n",
    "\n",
    "my_str = 'Peter Piper Picked A Peck Of Pickled Peppers.'\n",
    "sub_str = 'Peck'\n",
    "new_str = 'Pack'\n",
    "temp_str = my_str.split()\n",
    "i, first_occ = 0, 0\n",
    "for word in temp_str:\n",
    "  if (word == sub_str) and (first_occ == 0):\n",
    "    temp_str[i] = new_str\n",
    "    first_occ += 1\n",
    "  elif sub_str not in my_str.split():\n",
    "    print(\"Word not found\")\n",
    "    break\n",
    "  i = i + 1\n",
    "\n",
    "mod_str = \" \".join(temp_str)\n",
    "if my_str != mod_str:\n",
    "  print(mod_str)"
   ]
  },
  {
   "cell_type": "raw",
   "id": "f7d26047",
   "metadata": {},
   "source": [
    "Q. Write a python program to find below output (implements rjust and\n",
    "ljust) using loop:-\n",
    "Input:- 'Peter Piper Picked A Peck Of Pickled Peppers.', sub_str =\n",
    "'Peck',\n",
    "Output:- '*********************Peck********************'"
   ]
  },
  {
   "cell_type": "code",
   "execution_count": 57,
   "id": "3420a4ca",
   "metadata": {
    "id": "dQ9YhBBc4m9V"
   },
   "outputs": [
    {
     "name": "stdout",
     "output_type": "stream",
     "text": [
      "Peter Piper Picked A Peck Of Pickled Peppers\n",
      "*********************Peck*******************\n"
     ]
    }
   ],
   "source": [
    "#Write a python program to find below output (implements rjust and ljust):-\n",
    "\n",
    "#Input:- 'Peter Piper Picked A Peck Of Pickled Peppers.', sub_str = 'Peck', \n",
    "#Output:- '*********************Peck********************'\n",
    "\n",
    "str = \"Peter Piper Picked A Peck Of Pickled Peppers\"\n",
    "print(str)\n",
    "words = str.split()\n",
    "new_str = \"\"\n",
    "wrd = 'Peck'\n",
    "for word in words:\n",
    "  if word != wrd:\n",
    "    temp_str = \"\"\n",
    "    new_str += temp_str.rjust(len(word)+1,'*')\n",
    "  elif word == wrd:\n",
    "    new_str += word\n",
    "    for word in words[::-1]:\n",
    "      if word != wrd:\n",
    "        temp_str = \"\"\n",
    "        new_str += temp_str.ljust(len(word)+1,'*')\n",
    "      elif word == wrd:\n",
    "        break\n",
    "    break\n",
    "print(new_str)"
   ]
  },
  {
   "cell_type": "raw",
   "id": "bd2920a7",
   "metadata": {},
   "source": [
    "Q. Write a python program to find below output using loop:-\n",
    "Input:- 'This is Python class', sep = ' is',\n",
    "Output:- ['This', 'is', 'Python class']"
   ]
  },
  {
   "cell_type": "code",
   "execution_count": 64,
   "id": "58ee7977",
   "metadata": {},
   "outputs": [
    {
     "name": "stdout",
     "output_type": "stream",
     "text": [
      "['This', 'is', 'Python class']\n"
     ]
    }
   ],
   "source": [
    "str = 'This is Python class'\n",
    "sep = 'is'\n",
    "words = str.split()\n",
    "temp_word = \"\"\n",
    "wl = []\n",
    "for word in words:\n",
    "    if word == sep:\n",
    "        wl.append(temp_word.strip())\n",
    "        wl.append(sep)\n",
    "        temp_word = \"\"\n",
    "    else:\n",
    "        temp_word += word + \" \"\n",
    "if temp_word:\n",
    "    wl.append(temp_word.strip())\n",
    "print(wl)"
   ]
  }
 ],
 "metadata": {
  "kernelspec": {
   "display_name": "Python 3 (ipykernel)",
   "language": "python",
   "name": "python3"
  },
  "language_info": {
   "codemirror_mode": {
    "name": "ipython",
    "version": 3
   },
   "file_extension": ".py",
   "mimetype": "text/x-python",
   "name": "python",
   "nbconvert_exporter": "python",
   "pygments_lexer": "ipython3",
   "version": "3.10.9"
  }
 },
 "nbformat": 4,
 "nbformat_minor": 5
}
