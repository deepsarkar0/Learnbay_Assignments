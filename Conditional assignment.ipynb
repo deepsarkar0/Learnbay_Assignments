{
 "cells": [
  {
   "cell_type": "code",
   "execution_count": 2,
   "id": "060501cb",
   "metadata": {},
   "outputs": [],
   "source": [
    "# Q. Write a program (W. A P.) which takes one number from 0 to 9 from the user and prints\n",
    "# it in the word. And if the word is not from 0 to 9 then\n",
    "# it should print that number is outside of the range and program should\n",
    "# exit.\n",
    "\n",
    "# For exapmple:-\n",
    "# input = 1\n",
    "# output = one"
   ]
  },
  {
   "cell_type": "code",
   "execution_count": 6,
   "id": "df8c4ecb",
   "metadata": {},
   "outputs": [
    {
     "name": "stdout",
     "output_type": "stream",
     "text": [
      "Enter a number from 0-9 to convert to word script: 8\n",
      "Your number 8 in words: Eight\n"
     ]
    }
   ],
   "source": [
    "number_words = ['Zero', 'One', 'Two', 'Three', 'Four', 'Five', 'Six', 'Seven', 'Eight', 'Nine']\n",
    "num = int(input(\"Enter a number from 0-9 to convert to word script: \"))\n",
    "if num < 10:\n",
    "    print(f\"Your number {num} in words: {number_words[num]}\")\n",
    "else: print(\"Number is outside of the range.\")"
   ]
  },
  {
   "cell_type": "code",
   "execution_count": 2,
   "id": "64819948",
   "metadata": {},
   "outputs": [],
   "source": [
    "# Q. W. A P. to implement calculator but the operation to be done and two\n",
    "# numbers will be taken as input from user:-\n",
    "# Operation console should show below:-\n",
    "#  Please select any one operation from below:-\n",
    "#  * To add enter 1\n",
    "#  * to subtract enter 2\n",
    "#  * To multiply enter 3\n",
    "#  * To divide enter 4\n",
    "#  * To divide and find quotient enter 5\n",
    "#  * To divide and find remainder enter 6\n",
    "#  * To divide and find num1 to the power of num2 enter 7"
   ]
  },
  {
   "cell_type": "code",
   "execution_count": 33,
   "id": "5a7c6c8b",
   "metadata": {},
   "outputs": [
    {
     "name": "stdout",
     "output_type": "stream",
     "text": [
      "Enter first number: 40\n",
      "Enter second number: 12\n",
      "Your first and second numbers are:  40 and 12\n",
      "For addition feed 1: \n",
      "For substraction feed 2: \n",
      "For multiplication feed 3: \n",
      "For division feed 4: \n",
      "For quotient feed 5: \n",
      "For remainder feed 6: \n",
      "For num1^num2 feed 7: \n",
      "7\n",
      "num1^num2: 1.67772E+19\n"
     ]
    }
   ],
   "source": [
    "num1 = int(input(\"Enter first number: \"))\n",
    "num2 = int(input(\"Enter second number: \"))\n",
    "print(f\"Your first and second numbers are: \",num1,\"and\",num2)\n",
    "opr = int(input(\"For addition feed 1: \\nFor substraction feed 2: \\nFor multiplication feed 3: \\n\\\n",
    "For division feed 4: \\nFor quotient feed 5: \\nFor remainder feed 6: \\nFor num1^num2 feed 7: \\n\"))\n",
    "\n",
    "if opr == 1:\n",
    "    print(f\"Addition of two numbers: \",num1 + num2)\n",
    "elif opr == 2:\n",
    "    print(f\"Substraction of two numbers: \",num1 - num2)\n",
    "elif opr == 3:\n",
    "    print(f\"Multiplication of two numbers: \",num1 * num2)\n",
    "elif opr == 4:\n",
    "    print(\"Division of two numbers: {:.3f}\".format(num1 / num2))\n",
    "elif opr == 5:\n",
    "    print(f\"Quotient upon division of num1 by num2: \",num1 // num2)\n",
    "elif opr == 6:\n",
    "    print(f\"Remainder upon division of num1 by num2: \",num1 % num2)\n",
    "elif opr == 7:\n",
    "    print(\"num1^num2: {:G}\".format(num1 ** num2))\n",
    "else: print(\"Please feed correct choice available in range\")"
   ]
  },
  {
   "cell_type": "code",
   "execution_count": 3,
   "id": "063f81a4",
   "metadata": {},
   "outputs": [],
   "source": [
    "# Q. W A P to check whether a year entered by user is an leap year or not?\n",
    "# Check with below input:-\n",
    "#  leap year:- 2012, 1968, 2004, 1200, 1600,2400\n",
    "#  Non-lear year:- 1971, 2006, 1700,1800,1900"
   ]
  },
  {
   "cell_type": "code",
   "execution_count": 37,
   "id": "785e6afd",
   "metadata": {},
   "outputs": [
    {
     "name": "stdout",
     "output_type": "stream",
     "text": [
      "Enter year to check if leap year or not: 1971\n",
      "1971 is not a leap year\n"
     ]
    }
   ],
   "source": [
    "Year = int(input(\"Enter year to check if leap year or not: \"))\n",
    "if Year % 4 == 0:\n",
    "    print(f\"{Year} is a leap year\")\n",
    "else: print(f\"{Year} is not a leap year\")"
   ]
  },
  {
   "cell_type": "code",
   "execution_count": 4,
   "id": "6a118086",
   "metadata": {},
   "outputs": [],
   "source": [
    "# Q. W A P which takes one number from the user and checks whether it is\n",
    "# an even or odd number?, If it even then prints number is\n",
    "# even number else prints that number is odd number.\n"
   ]
  },
  {
   "cell_type": "code",
   "execution_count": 59,
   "id": "417c9ed8",
   "metadata": {},
   "outputs": [
    {
     "name": "stdout",
     "output_type": "stream",
     "text": [
      "Enter a number to check if it's Even or Odd: 0\n",
      "I will not compute for number 'ZERO'\n"
     ]
    }
   ],
   "source": [
    "if (num:= int(input(\"Enter a number to check if it's Even or Odd: \"))) == 0:\n",
    "    print(\"I will not compute for number 'ZERO'\")\n",
    "elif num % 2 == 0:\n",
    "    print(\"Number is Even\")\n",
    "else:print(\"Number is Odd\")"
   ]
  },
  {
   "cell_type": "code",
   "execution_count": 5,
   "id": "2058bb35",
   "metadata": {},
   "outputs": [],
   "source": [
    "# Q. W A P which takes two numbers from the user and prints below output:-\n",
    "#  1. num1 is greater than num2 if num1 is greater than num2\n",
    "#  2. num1 is smaller than num2 if num1 is smaller than num2\n",
    "#  3. num1 is equal to num2 if num1 and num2 are equal\n",
    "\n",
    "# Note:- 1. Do this problem using if - else\n",
    "#  2. Do this using ternary operator"
   ]
  },
  {
   "cell_type": "code",
   "execution_count": 62,
   "id": "fc92fb93",
   "metadata": {},
   "outputs": [
    {
     "name": "stdout",
     "output_type": "stream",
     "text": [
      "Enter first number: 0\n",
      "Enter second number: 0\n",
      "num1 is equal to num2\n"
     ]
    }
   ],
   "source": [
    "if (num1:= int(input(\"Enter first number: \"))) > (num2:= int(input(\"Enter second number: \"))):\n",
    "    print (f\"{num1} is greater than {num2}\")\n",
    "elif num1 < num2:\n",
    "    print (f\"{num1} is smaller than {num2}\")\n",
    "else: print(f\"{num1} is equal to {num2}\")"
   ]
  },
  {
   "cell_type": "code",
   "execution_count": 6,
   "id": "c760a678",
   "metadata": {},
   "outputs": [],
   "source": [
    "# Q. W A P which takes three numbers from the user and prints below\n",
    "# output:-\n",
    "#  1. num1 is greater than num2 and num3 if num1 is greater than num2\n",
    "# and num3\n",
    "#  2. num2 is greater than num1 and num3 if num2 is greater than num1\n",
    "# and num3\n",
    "#  3. num3 is greater than num1 and num2 if num3 is greater than num1\n",
    "# and num2\n",
    "\n",
    "# Note:- 1. Do this problem using if - elif - else\n",
    "#  2. Do this using ternary operator\n",
    "# a = a if a>b else b\n"
   ]
  },
  {
   "cell_type": "code",
   "execution_count": 80,
   "id": "73377829",
   "metadata": {},
   "outputs": [
    {
     "name": "stdout",
     "output_type": "stream",
     "text": [
      "Enter first number: 10\n",
      "Enter second number: 30\n",
      "Enter third number: 15\n",
      "30 is greater than 10 and 15\n"
     ]
    }
   ],
   "source": [
    "num1, num2, num3 = int(input(\"Enter first number: \")), int(input(\"Enter second number: \")), int(input(\"Enter third number: \"))\n",
    "print(f\"{num1} is greater than {num2} and {num3}\") if (num1 > num2 and num1 > num3) else print(f\"{num2} \\\n",
    "is greater than {num1} and {num3}\") if (num2 > num1 and num2 > num3) else print(f\"{num3} is greater than \\\n",
    "{num1} and {num2}\")"
   ]
  }
 ],
 "metadata": {
  "kernelspec": {
   "display_name": "Python 3 (ipykernel)",
   "language": "python",
   "name": "python3"
  },
  "language_info": {
   "codemirror_mode": {
    "name": "ipython",
    "version": 3
   },
   "file_extension": ".py",
   "mimetype": "text/x-python",
   "name": "python",
   "nbconvert_exporter": "python",
   "pygments_lexer": "ipython3",
   "version": "3.10.9"
  }
 },
 "nbformat": 4,
 "nbformat_minor": 5
}
