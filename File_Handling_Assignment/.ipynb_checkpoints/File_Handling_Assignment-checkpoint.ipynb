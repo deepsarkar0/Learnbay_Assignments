{
 "cells": [
  {
   "cell_type": "code",
   "execution_count": 1,
   "metadata": {},
   "outputs": [],
   "source": [
    "# Write a function in python to read the content from \n",
    "# a text file \"poem.txt\" line by line and display the same on screen.\n",
    "# Create a file \"poem.txt\" with some content"
   ]
  },
  {
   "cell_type": "code",
   "execution_count": 2,
   "metadata": {},
   "outputs": [
    {
     "name": "stdout",
     "output_type": "stream",
     "text": [
      "Twinkle twinkle little star\n",
      "How I wonder what you are;\n",
      "Up above the world so high,\n",
      "Like a diamond in the sky.\n"
     ]
    }
   ],
   "source": [
    "with open(\"Poem.txt\",'w+') as file:\n",
    "    file.write('''Twinkle twinkle little star\n",
    "How I wonder what you are;\n",
    "Up above the world so high,\n",
    "Like a diamond in the sky.'''\n",
    "    )\n",
    "with open(\"Poem.txt\") as file:\n",
    "    lines = file.read()\n",
    "    print(lines)  "
   ]
  },
  {
   "cell_type": "code",
   "execution_count": 3,
   "metadata": {},
   "outputs": [],
   "source": [
    "# Write a function in python to count the number of lines \n",
    "# from a text file \"story.txt\" which is not starting with an alphabet \"T\". \n",
    "\n",
    "# Example: If the file \"story.txt\" contains the following lines: A boy is playing there.\n",
    "# There is a playground.\n",
    "# An aeroplane is in the sky.\n",
    "# The sky is pink.\n",
    "# Alphabets and numbers are allowed in the password.\n",
    "# The function should display the output as 3"
   ]
  },
  {
   "cell_type": "code",
   "execution_count": 4,
   "metadata": {},
   "outputs": [
    {
     "name": "stdout",
     "output_type": "stream",
     "text": [
      "A boy is playing there.\n",
      "There is a playground.\n",
      "An aeroplane is in the sky.\n",
      "The sky is pink.\n",
      "Alphabets and numbers are allowed in the password.\n",
      "\n",
      "Total lines not starting with 'T' are: 3\n"
     ]
    }
   ],
   "source": [
    "with open(\"story.txt\") as file:\n",
    "    total = 0\n",
    "    lines = None\n",
    "    while lines != \"\":\n",
    "        lines = file.readline().rstrip(\"\\n\") # Striping off newline \\n char from end of each line while reading \n",
    "        print(lines)\n",
    "        if not lines.startswith(\"T\") and lines != \"\" and lines != \"\\n\":\n",
    "            total += 1\n",
    "print(f\"Total lines not starting with 'T' are: {total}\")"
   ]
  },
  {
   "cell_type": "code",
   "execution_count": 5,
   "metadata": {},
   "outputs": [],
   "source": [
    "# Write a function in Python to count and display the total number of words in a text file."
   ]
  },
  {
   "cell_type": "code",
   "execution_count": 6,
   "metadata": {},
   "outputs": [
    {
     "name": "stdout",
     "output_type": "stream",
     "text": [
      "['Twinkle', 'twinkle', 'little', 'star']\n",
      "['How', 'I', 'wonder', 'what', 'you', 'are;']\n",
      "['Up', 'above', 'the', 'world', 'so', 'high,']\n",
      "['Like', 'a', 'diamond', 'in', 'the', 'sky.']\n",
      "Total number of words:  22\n"
     ]
    }
   ],
   "source": [
    "with open(\"Poem.txt\") as file:\n",
    "    cwords = 0\n",
    "    content = file.readlines()\n",
    "    for words in content:\n",
    "        words = words.split()\n",
    "        cwords += len(words)\n",
    "        print(words)\n",
    "print(\"Total number of words: \", cwords)"
   ]
  },
  {
   "cell_type": "code",
   "execution_count": 7,
   "metadata": {},
   "outputs": [],
   "source": [
    "# Write a function in Python to read lines from a text file \"notes.txt\". \n",
    "# Your function should find and display the occurrence of the word \"the\".\n",
    "\n",
    "# For example: If the content of the file is:\n",
    "# \"India is the fastest-growing economy. India is looking for more investments around the globe. The whole world is looking at India as a great market. Most of the Indians can foresee the heights that India is capable of reaching.\"\n",
    "\n",
    "# The output should be 5."
   ]
  },
  {
   "cell_type": "code",
   "execution_count": 8,
   "metadata": {},
   "outputs": [
    {
     "data": {
      "text/plain": [
       "5"
      ]
     },
     "execution_count": 8,
     "metadata": {},
     "output_type": "execute_result"
    }
   ],
   "source": [
    "def occurrence(word):\n",
    "    occur = 0\n",
    "    upp, low, cap = word.upper(), word.lower(), word.capitalize()\n",
    "    with open(\"notes.txt\") as note:\n",
    "        contents = None\n",
    "        while contents != \"\":\n",
    "            contents = note.readline().rstrip(\"\\n\")\n",
    "            occur += contents.count(upp) + contents.count(low) + contents.count(cap)\n",
    "        return occur\n",
    "occurrence(\"the\")"
   ]
  },
  {
   "cell_type": "code",
   "execution_count": 9,
   "metadata": {},
   "outputs": [],
   "source": [
    "# Write a function display_words() in python to read lines from a text file \"story.txt\", \n",
    "# and display those words, which are less than 4 characters."
   ]
  },
  {
   "cell_type": "code",
   "execution_count": 10,
   "metadata": {},
   "outputs": [
    {
     "name": "stdout",
     "output_type": "stream",
     "text": [
      "is|the|is|for|the|The|is|at|as|a|of|the|can|the|is|of|"
     ]
    }
   ],
   "source": [
    "with open(\"notes.txt\") as note:\n",
    "    lines = None\n",
    "    while lines != \"\":\n",
    "        lines = note.readline()\n",
    "        splitted_lines = lines.split()\n",
    "        for word in splitted_lines:\n",
    "            if len(word) < 4:\n",
    "                print(word, end=\"|\")"
   ]
  },
  {
   "cell_type": "code",
   "execution_count": 11,
   "metadata": {},
   "outputs": [],
   "source": [
    "# Write a function in Python to count the words \"this\" and \"these\" present in a text file \"article.txt\". \n",
    "# [Note that the words \"this\" and \"these\" are complete words] "
   ]
  },
  {
   "cell_type": "code",
   "execution_count": 12,
   "metadata": {},
   "outputs": [
    {
     "name": "stdout",
     "output_type": "stream",
     "text": [
      "Total 'the':  4\n",
      "Total 'this':  2\n"
     ]
    }
   ],
   "source": [
    "def occurrence(word:str) -> int:\n",
    "    occur = 0\n",
    "    upp, low, cap = word.upper(), word.lower(), word.capitalize()\n",
    "    with open(\"article.txt\") as article:\n",
    "        contents = None\n",
    "        while contents != \"\":\n",
    "            contents = article.readline().rstrip(\"\\n\")\n",
    "            content = contents.split()\n",
    "            occur += content.count(upp) + content.count(low) + content.count(cap)\n",
    "        return occur\n",
    "print(\"Total 'the': \", occurrence(\"the\"))\n",
    "print(f\"Total 'this': \", occurrence(\"this\"))"
   ]
  },
  {
   "cell_type": "code",
   "execution_count": 13,
   "metadata": {},
   "outputs": [],
   "source": [
    "# Write a function in Python to count words in a text file those are ending with alphabet \"e\""
   ]
  },
  {
   "cell_type": "code",
   "execution_count": 14,
   "metadata": {},
   "outputs": [
    {
     "name": "stdout",
     "output_type": "stream",
     "text": [
      "9\n"
     ]
    }
   ],
   "source": [
    "with open(\"notes.txt\") as note:\n",
    "    lines = None\n",
    "    count = 0\n",
    "    while lines != \"\":\n",
    "        lines = note.readline().rstrip(\"\\n\")\n",
    "        splitted_lines = lines.split()\n",
    "        for word in splitted_lines:\n",
    "            if word.endswith(\"e\"):\n",
    "                count += 1\n",
    "    print(count)"
   ]
  },
  {
   "cell_type": "code",
   "execution_count": 15,
   "metadata": {},
   "outputs": [],
   "source": [
    "# Write a function in Python to count uppercase character in a text file."
   ]
  },
  {
   "cell_type": "code",
   "execution_count": 16,
   "metadata": {},
   "outputs": [
    {
     "name": "stdout",
     "output_type": "stream",
     "text": [
      "7\n"
     ]
    }
   ],
   "source": [
    "with open(\"notes.txt\") as note:\n",
    "    lines = None\n",
    "    count = 0\n",
    "    while lines != \"\":\n",
    "        lines = note.readline().rstrip(\"\\n\")\n",
    "        for letter in lines:\n",
    "            if letter.isupper():\n",
    "                count += 1\n",
    "    print(count)"
   ]
  },
  {
   "cell_type": "code",
   "execution_count": 17,
   "metadata": {},
   "outputs": [],
   "source": [
    "# A text file named \"matter.txt\" contains some text, which needs to be displayed such that \n",
    "# every next character is separated by a symbol \"#\". \n",
    "# Write a function definition for hash_display() in Python that would display \n",
    "# the entire content of the file matter.txt in the desired format.\n",
    "\n",
    "# Example :\n",
    "# If the file matter.txt has the following content stored in it :\n",
    "# THE WORLD IS ROUND\n",
    "\n",
    "# The function hash_display() should display the following content :\n",
    "# T#H#E# #W#O#R#L#D# #I#S# #R#O#U#N#D#"
   ]
  },
  {
   "cell_type": "code",
   "execution_count": 18,
   "metadata": {},
   "outputs": [
    {
     "name": "stdout",
     "output_type": "stream",
     "text": [
      "T#H#E# #W#O#R#L#D# #I#S# #R#O#U#N#D#"
     ]
    }
   ],
   "source": [
    "def hash_display(sep:str) -> str:\n",
    "    with open(\"matter.txt\") as note:\n",
    "        lines = None\n",
    "        while lines != \"\":\n",
    "            lines = note.readline()\n",
    "            for letter in lines:\n",
    "                print(letter, end=sep)\n",
    "hash_display('#')"
   ]
  },
  {
   "cell_type": "code",
   "execution_count": 19,
   "metadata": {},
   "outputs": [],
   "source": [
    "# Aditi has used a text editing software to type some text. After saving the article as WORDS.TXT, \n",
    "# she realised that she has wrongly typed alphabet J in place of alphabet I everywhere in the article.\n",
    "# Write a function definition for JTOI() in Python that would display the corrected version of entire content \n",
    "# of the file WORDS.TXT with all the alphabets \"J\" to be displayed as an alphabet \"I\" on screen.\n",
    "\n",
    "# Note: Assuming that WORD.TXT does not contain any J alphabet otherwise.\n",
    "\n",
    "# Example:\n",
    "# If Aditi has stored the following content in the file WORDS.TXT:\n",
    "# WELL, THJS JS A WORD BY JTSELF. YOU COULD STRETCH THJS TO BE A SENTENCE\n",
    "# The function JTOI() should display the following content:\n",
    "# WELL, THIS IS A WORD BY ITSELF. YOU COULD STRETCH THIS TO BE A SENTENCE"
   ]
  },
  {
   "cell_type": "code",
   "execution_count": 20,
   "metadata": {},
   "outputs": [
    {
     "name": "stdout",
     "output_type": "stream",
     "text": [
      "WELL, THIS IS A WORD BY ITSELF. YOU COULD STRETCH THIS TO BE A SENTENCE.\n",
      "\n"
     ]
    }
   ],
   "source": [
    "def JTOI():\n",
    "    with open(\"WORDS.txt\") as file:\n",
    "        content = None\n",
    "        while content != \"\":\n",
    "            content = file.readline().rstrip(\"\\n\")\n",
    "            new_content = content.replace(\"J\",\"I\")\n",
    "            print(new_content)\n",
    "JTOI()"
   ]
  },
  {
   "cell_type": "code",
   "execution_count": 21,
   "metadata": {},
   "outputs": [],
   "source": [
    "# Write a function AMCount() in Python, which should read each character of a text file STORY.TXT, \n",
    "# should count and display the occurance of alphabets A and M (including small cases a and m too).\n",
    "# For Example:\n",
    "# If the file content is as follows:\n",
    "# Updated information\n",
    "# As simplified by official websites.\n",
    "# The EUCount() function should display the output as:\n",
    "# A or a:4\n",
    "# M or m :2"
   ]
  },
  {
   "cell_type": "code",
   "execution_count": 22,
   "metadata": {},
   "outputs": [
    {
     "name": "stdout",
     "output_type": "stream",
     "text": [
      "A boy is playing there.\n",
      "There is a playground.\n",
      "An aeroplane is in the sky.\n",
      "The sky is pink.\n",
      "Alphabets and numbers are allowed in the password.\n",
      "\n",
      "A or a: 13\n",
      "M or m: 1\n"
     ]
    }
   ],
   "source": [
    "def AMcount():\n",
    "    with open(\"story.txt\") as file:\n",
    "        totalA, totalM = 0, 0\n",
    "        lines = None\n",
    "        while lines != \"\":\n",
    "            lines = file.readline().rstrip(\"\\n\")\n",
    "            print(lines)\n",
    "            for letter in lines.lower():\n",
    "                if letter == \"a\":\n",
    "                    totalA += 1\n",
    "                elif letter == \"m\":\n",
    "                    totalM += 1\n",
    "        return print(f\"A or a: {totalA}\\nM or m: {totalM}\")\n",
    "        \n",
    "AMcount()"
   ]
  },
  {
   "cell_type": "code",
   "execution_count": 23,
   "metadata": {},
   "outputs": [],
   "source": [
    "# A binary file \"Book.dat\" has structure [BookNo, Book_Name, Author, Price].\n",
    "# i. Write a user defined function createFile() to input data for a record and add to Book.dat.\n",
    "# ii. Write a function countRec(Author) in Python which accepts the Author name as parameter \n",
    "# and count and return number of books by the given Author are stored in the binary file \"Book.dat\""
   ]
  },
  {
   "cell_type": "code",
   "execution_count": 24,
   "metadata": {},
   "outputs": [],
   "source": [
    "import pickle\n",
    "def createFile(BookNo:int, Book_Name:str, Author:str, Price:[int,float]):\n",
    "    with open('Book.dat','ab+') as binfile:\n",
    "        pickle.dump({'BookNo':BookNo,'Book_Name':Book_Name,'Author':Author,'Price':Price},binfile)\n",
    "        \n",
    "\n",
    "def countRec(Author:str) -> int:\n",
    "    with open('Book.dat','rb') as file:\n",
    "        content = \"\"\n",
    "        count_Books = 0\n",
    "        try:\n",
    "            while content != None:\n",
    "                content = pickle.load(file)\n",
    "                if content['Author'] == Author:\n",
    "                    count_Books += 1\n",
    "        except EOFError:\n",
    "            pass\n",
    "    return count_Books"
   ]
  },
  {
   "cell_type": "code",
   "execution_count": 25,
   "metadata": {},
   "outputs": [],
   "source": [
    "createFile(22,'Sherlock Holmes','Arthur Conan Doyle',425)\n",
    "createFile(22,'Memoirs of Holmes','Arthur Conan Doyle',252)\n",
    "createFile(22,'The Sign of Four','Arthur Conan Doyle',100.50)"
   ]
  },
  {
   "cell_type": "code",
   "execution_count": 26,
   "metadata": {},
   "outputs": [
    {
     "data": {
      "text/plain": [
       "3"
      ]
     },
     "execution_count": 26,
     "metadata": {},
     "output_type": "execute_result"
    }
   ],
   "source": [
    "countRec('Arthur Conan Doyle')"
   ]
  },
  {
   "cell_type": "code",
   "execution_count": 27,
   "metadata": {},
   "outputs": [],
   "source": [
    "# A binary file \"STUDENT.DAT\" has structure (admission_number, Name, Percentage). \n",
    "# Write a function count_rec() in Python that would read contents of the file \"STUDENT.DAT\" \n",
    "# and display the details of those students whose percentage is above 75. \n",
    "# Also display number of students scoring above 75%"
   ]
  },
  {
   "cell_type": "code",
   "execution_count": 28,
   "metadata": {},
   "outputs": [],
   "source": [
    "import pickle\n",
    "def student_rec(admission_number:int,Name:str,Percentage:int):\n",
    "        with open('STUDENT.dat','ab+') as strec:\n",
    "            pickle.dump({'admission_number':admission_number,'Name':Name,'Percentage':Percentage},strec)"
   ]
  },
  {
   "cell_type": "code",
   "execution_count": 29,
   "metadata": {},
   "outputs": [],
   "source": [
    "student_rec(9,'Vidya Sharma',65)\n",
    "student_rec(45,'Mahesh Dalal',75)\n",
    "student_rec(25,'Kishore Kumar',70)\n",
    "student_rec(20,'Rahul Singh',85)\n",
    "student_rec(10,'Nandini Mishra',90)"
   ]
  },
  {
   "cell_type": "code",
   "execution_count": 30,
   "metadata": {},
   "outputs": [
    {
     "name": "stdout",
     "output_type": "stream",
     "text": [
      "{'admission_number': 20, 'Name': 'Rahul Singh', 'Percentage': 85}\n",
      "{'admission_number': 10, 'Name': 'Nandini Mishra', 'Percentage': 90}\n",
      "Total students above 75% : 2\n"
     ]
    }
   ],
   "source": [
    "def count_rec():\n",
    "    content = \"\"\n",
    "    total_students_above_75 = 0\n",
    "    with open('STUDENT.dat','rb') as file:\n",
    "        try:\n",
    "            while content != None:\n",
    "                content = pickle.load(file)\n",
    "                if content['Percentage'] > 75:\n",
    "                    print(content)\n",
    "                    total_students_above_75 += 1\n",
    "        except EOFError:\n",
    "            pass\n",
    "        finally:\n",
    "            print(f\"Total students above 75% : {total_students_above_75}\")\n",
    "count_rec()"
   ]
  },
  {
   "cell_type": "code",
   "execution_count": 31,
   "metadata": {},
   "outputs": [],
   "source": [
    "# Given a binary file employee.dat, created using dictionary object having keys: (empcode, name, and salary)\n",
    "\n",
    "# Write a python function that add one more record at the end of file.\n",
    "# Write a python function that display all employee records whose salary is more that 30000\n"
   ]
  },
  {
   "cell_type": "code",
   "execution_count": 32,
   "metadata": {},
   "outputs": [],
   "source": [
    "import pickle\n",
    "def employee_rec(emp_code:int,name:str,salary:int):\n",
    "        with open('employee.dat','ab+') as emp_rec:\n",
    "            pickle.dump({'emp_code':emp_code,'name':name,'salary':salary},emp_rec)"
   ]
  },
  {
   "cell_type": "code",
   "execution_count": 33,
   "metadata": {},
   "outputs": [],
   "source": [
    "employee_rec(2219,'Vidya Sharma',65000)\n",
    "employee_rec(5368,'Mahesh Dalal',7500)\n",
    "employee_rec(2001,'Kishore Kumar',7000)\n",
    "employee_rec(5142,'Rahul Singh',85000)\n",
    "employee_rec(6381,'Nandini Mishra',31000)"
   ]
  },
  {
   "cell_type": "code",
   "execution_count": 34,
   "metadata": {},
   "outputs": [
    {
     "name": "stdout",
     "output_type": "stream",
     "text": [
      "{'emp_code': 2219, 'name': 'Vidya Sharma', 'salary': 65000}\n",
      "{'emp_code': 5142, 'name': 'Rahul Singh', 'salary': 85000}\n",
      "{'emp_code': 6381, 'name': 'Nandini Mishra', 'salary': 31000}\n"
     ]
    }
   ],
   "source": [
    "def count_rec():\n",
    "    content = \"\"\n",
    "    with open('employee.dat','rb') as file:\n",
    "        try:\n",
    "            while content != None:\n",
    "                content = pickle.load(file)\n",
    "                if content['salary'] > 30000:\n",
    "                    print(content)\n",
    "        except EOFError:\n",
    "            pass\n",
    "count_rec()"
   ]
  },
  {
   "cell_type": "code",
   "execution_count": 35,
   "metadata": {},
   "outputs": [],
   "source": [
    "# Write a function to search and display details of student whose rollno is '1005' \n",
    "# from the binary file student.dat having structure [rollno, name, class and fees]."
   ]
  },
  {
   "cell_type": "code",
   "execution_count": 36,
   "metadata": {},
   "outputs": [],
   "source": [
    "import pickle\n",
    "def student_rec(roll_number:int,Name:str,grade:int,fees:int):\n",
    "        with open('student2.dat','ab+') as strec:\n",
    "            pickle.dump({'roll_number':roll_number,'Name':Name,'grade':grade,'fees':fees},strec)"
   ]
  },
  {
   "cell_type": "code",
   "execution_count": 37,
   "metadata": {},
   "outputs": [],
   "source": [
    "student_rec(1250,'Vidya Sharma',6, 6500)\n",
    "student_rec(1005,'Mahesh Dalal',7, 7500)\n",
    "student_rec(2003,'Kishore Kumar',10, 7000)\n",
    "student_rec(3201,'Rahul Singh',11, 8500)\n",
    "student_rec(1003,'Nandini Mishra',7, 9000)"
   ]
  },
  {
   "cell_type": "code",
   "execution_count": 38,
   "metadata": {},
   "outputs": [
    {
     "name": "stdout",
     "output_type": "stream",
     "text": [
      "{'roll_number': 1005, 'Name': 'Mahesh Dalal', 'grade': 7, 'fees': 7500}\n"
     ]
    }
   ],
   "source": [
    "def count_rec(match_roll:int) -> dict:\n",
    "    content = \"\"\n",
    "    match_count = 0\n",
    "    with open('student2.dat','rb') as file:\n",
    "        try:\n",
    "            while content != None:\n",
    "                content = pickle.load(file)\n",
    "                if content['roll_number'] == match_roll:\n",
    "                    print(content)\n",
    "                    match_count += 1\n",
    "        except EOFError:\n",
    "            pass\n",
    "    if match_count == 0:\n",
    "        print(f\"Student roll_number: {match_roll} not found\")\n",
    "count_rec(1005)"
   ]
  },
  {
   "cell_type": "code",
   "execution_count": 39,
   "metadata": {},
   "outputs": [],
   "source": [
    "# A binary file school.dat has structure(rollno, name, class, fees)\n",
    "\n",
    "# Write a definition for function total_fees( ) that reads each object of file and calculate \n",
    "# the total fees of students and display the same."
   ]
  },
  {
   "cell_type": "code",
   "execution_count": 40,
   "metadata": {},
   "outputs": [],
   "source": [
    "import pickle\n",
    "def student_rec(roll_number:int,Name:str,grade:int,fees:int):\n",
    "        with open('school.dat','ab+') as strec:\n",
    "            pickle.dump({'roll_number':roll_number,'Name':Name,'grade':grade,'fees':fees},strec)"
   ]
  },
  {
   "cell_type": "code",
   "execution_count": 41,
   "metadata": {},
   "outputs": [],
   "source": [
    "student_rec(1250,'Vidya Sharma',6, 6500)\n",
    "student_rec(1005,'Mahesh Dalal',7, 7500)\n",
    "student_rec(2003,'Kishore Kumar',10, 7000)\n",
    "student_rec(3201,'Rahul Singh',11, 8500)\n",
    "student_rec(1003,'Nandini Mishra',7, 9000)"
   ]
  },
  {
   "cell_type": "code",
   "execution_count": 42,
   "metadata": {},
   "outputs": [
    {
     "data": {
      "text/plain": [
       "38500"
      ]
     },
     "execution_count": 42,
     "metadata": {},
     "output_type": "execute_result"
    }
   ],
   "source": [
    "def total_fees() -> [int,float]:\n",
    "    content = \"\"\n",
    "    total_fees_amount = 0\n",
    "    with open('school.dat','rb') as file:\n",
    "        try:\n",
    "            while content != None:\n",
    "                content = pickle.load(file)\n",
    "                total_fees_amount += content['fees']\n",
    "        except EOFError:\n",
    "            pass\n",
    "    return total_fees_amount\n",
    "total_fees()"
   ]
  },
  {
   "cell_type": "code",
   "execution_count": 43,
   "metadata": {},
   "outputs": [],
   "source": [
    "# A binary file players.dat, containing records of following list format: [code, name, country and total runs]\n",
    "\n",
    "# 1. Write a python function that display all records where player name starts from 'A'\n",
    "# 2. Write a python function that accept country as an argument and count and display \n",
    "#     the number of players of that country.\n",
    "# 3. Write a python function that add one record at the end of file."
   ]
  },
  {
   "cell_type": "code",
   "execution_count": 44,
   "metadata": {},
   "outputs": [],
   "source": [
    "player1 = [23,'Ashish Malhotra','India',248]\n",
    "player2 = [22,'Danielle Smith','England',100]\n",
    "player3 = [21,'John Williams','Ireland',200]\n",
    "player4 = [21,'Aaron Nigel','Nigeria',150]\n",
    "player5 = [25,'Arnold Swiss','Austria',180]"
   ]
  },
  {
   "cell_type": "code",
   "execution_count": 45,
   "metadata": {},
   "outputs": [],
   "source": [
    "import pickle\n",
    "def player_rec(player_det:list):\n",
    "    with open('players.dat','ab+') as file:\n",
    "        pickle.dump(player_det,file)"
   ]
  },
  {
   "cell_type": "code",
   "execution_count": 46,
   "metadata": {},
   "outputs": [],
   "source": [
    "player_rec(player1)\n",
    "player_rec(player2)\n",
    "player_rec(player3)\n",
    "player_rec(player4)\n",
    "player_rec(player5)"
   ]
  },
  {
   "cell_type": "code",
   "execution_count": 47,
   "metadata": {},
   "outputs": [
    {
     "name": "stdout",
     "output_type": "stream",
     "text": [
      "[23, 'Ashish Malhotra', 'India', 248]\n",
      "[21, 'Aaron Nigel', 'Nigeria', 150]\n",
      "[25, 'Arnold Swiss', 'Austria', 180]\n"
     ]
    }
   ],
   "source": [
    "def starts_with():\n",
    "    with open('players.dat','rb') as file:\n",
    "        content = \"\"\n",
    "        try:\n",
    "            while content != None:\n",
    "                content = pickle.load(file)\n",
    "                if content[1][0].startswith(\"A\"):\n",
    "                    print(content)\n",
    "        except EOFError:\n",
    "            pass\n",
    "starts_with()"
   ]
  },
  {
   "cell_type": "code",
   "execution_count": 48,
   "metadata": {},
   "outputs": [
    {
     "data": {
      "text/plain": [
       "1"
      ]
     },
     "execution_count": 48,
     "metadata": {},
     "output_type": "execute_result"
    }
   ],
   "source": [
    "def country_count(country:str) -> int:\n",
    "    with open('players.dat','rb') as file:\n",
    "        content = \"\"\n",
    "        count = 0\n",
    "        try:\n",
    "            while content != None:\n",
    "                content = pickle.load(file)\n",
    "                if content[2] == country:\n",
    "                    count += 1\n",
    "        except EOFError:\n",
    "            pass\n",
    "    return count\n",
    "country_count('India')"
   ]
  },
  {
   "cell_type": "markdown",
   "metadata": {},
   "source": [
    "#### player_rec() -> Function to add players"
   ]
  },
  {
   "cell_type": "code",
   "execution_count": 49,
   "metadata": {
    "ExecuteTime": {
     "end_time": "2021-05-29T10:46:59.140338Z",
     "start_time": "2021-05-29T10:46:59.135100Z"
    }
   },
   "outputs": [],
   "source": [
    "# Given a binary file game.dat, containing records of following list format: [game_name, participants]\n",
    "\n",
    "# Write a function in Python that would read contents from the file game.dat and \n",
    "# creates a file named basket.dat copying only those records from game.dat where the game name is \"Basket Ball\""
   ]
  },
  {
   "cell_type": "code",
   "execution_count": 50,
   "metadata": {},
   "outputs": [],
   "source": [
    "import pickle\n",
    "def game_rec(game_name:str,participants:int):\n",
    "    with open('game.dat','ab+') as gamefile:\n",
    "        pickle.dump([game_name,participants],gamefile)"
   ]
  },
  {
   "cell_type": "code",
   "execution_count": 51,
   "metadata": {},
   "outputs": [],
   "source": [
    "game_rec('Baseball',42)\n",
    "game_rec('Football',100)\n",
    "game_rec('Basketball',10)\n",
    "game_rec('Badminton',20)\n",
    "game_rec('Tennis',5)\n",
    "game_rec('Hockey',30)"
   ]
  },
  {
   "cell_type": "code",
   "execution_count": 52,
   "metadata": {},
   "outputs": [
    {
     "name": "stdout",
     "output_type": "stream",
     "text": [
      "['Baseball', 42]\n",
      "['Football', 100]\n",
      "['Basketball', 10]\n",
      "['Badminton', 20]\n",
      "['Tennis', 5]\n",
      "['Hockey', 30]\n"
     ]
    }
   ],
   "source": [
    "def fetch():\n",
    "    with open('game.dat','rb') as file:\n",
    "        content = \"\"\n",
    "        try:\n",
    "            while content != None:\n",
    "                content = pickle.load(file)\n",
    "                print(content)\n",
    "                if content[0] == 'Basketball':\n",
    "                    with open('basket.dat','ab+') as new_file:\n",
    "                        pickle.dump(content,new_file)\n",
    "        except EOFError:\n",
    "            pass\n",
    "fetch()"
   ]
  },
  {
   "cell_type": "code",
   "execution_count": 53,
   "metadata": {},
   "outputs": [
    {
     "name": "stdout",
     "output_type": "stream",
     "text": [
      "['Basketball', 10]\n"
     ]
    }
   ],
   "source": [
    "with open('basket.dat','rb') as read_file:\n",
    "    new_content = \"\"\n",
    "    try:\n",
    "        while new_content != None:  \n",
    "            new_content = pickle.load(read_file)\n",
    "            print(new_content)\n",
    "    except EOFError:\n",
    "        pass"
   ]
  }
 ],
 "metadata": {
  "kernelspec": {
   "display_name": "Python 3 (ipykernel)",
   "language": "python",
   "name": "python3"
  },
  "language_info": {
   "codemirror_mode": {
    "name": "ipython",
    "version": 3
   },
   "file_extension": ".py",
   "mimetype": "text/x-python",
   "name": "python",
   "nbconvert_exporter": "python",
   "pygments_lexer": "ipython3",
   "version": "3.10.9"
  }
 },
 "nbformat": 4,
 "nbformat_minor": 2
}
